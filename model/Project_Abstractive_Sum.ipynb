{
  "nbformat": 4,
  "nbformat_minor": 0,
  "metadata": {
    "colab": {
      "provenance": []
    },
    "kernelspec": {
      "name": "python3",
      "display_name": "Python 3"
    },
    "language_info": {
      "name": "python"
    }
  },
  "cells": [
    {
      "cell_type": "markdown",
      "source": [
        "# **mT5 Multilingual XLSum Model**"
      ],
      "metadata": {
        "id": "zTqOnZE-Pd5o"
      }
    },
    {
      "cell_type": "code",
      "source": [
        "!pip install simpletransformers==0.63.4"
      ],
      "metadata": {
        "id": "5aEf53vTQQbT",
        "colab": {
          "base_uri": "https://localhost:8080/"
        },
        "outputId": "607113fd-bd75-4e21-d147-501e29a3ea31"
      },
      "execution_count": null,
      "outputs": [
        {
          "output_type": "stream",
          "name": "stdout",
          "text": [
            "Requirement already satisfied: simpletransformers==0.63.4 in /usr/local/lib/python3.10/dist-packages (0.63.4)\n",
            "Requirement already satisfied: numpy in /usr/local/lib/python3.10/dist-packages (from simpletransformers==0.63.4) (1.23.5)\n",
            "Requirement already satisfied: requests in /usr/local/lib/python3.10/dist-packages (from simpletransformers==0.63.4) (2.31.0)\n",
            "Requirement already satisfied: tqdm>=4.47.0 in /usr/local/lib/python3.10/dist-packages (from simpletransformers==0.63.4) (4.66.1)\n",
            "Requirement already satisfied: regex in /usr/local/lib/python3.10/dist-packages (from simpletransformers==0.63.4) (2023.6.3)\n",
            "Requirement already satisfied: transformers>=4.6.0 in /usr/local/lib/python3.10/dist-packages (from simpletransformers==0.63.4) (4.35.2)\n",
            "Requirement already satisfied: datasets in /usr/local/lib/python3.10/dist-packages (from simpletransformers==0.63.4) (2.15.0)\n",
            "Requirement already satisfied: scipy in /usr/local/lib/python3.10/dist-packages (from simpletransformers==0.63.4) (1.11.3)\n",
            "Requirement already satisfied: scikit-learn in /usr/local/lib/python3.10/dist-packages (from simpletransformers==0.63.4) (1.2.2)\n",
            "Requirement already satisfied: seqeval in /usr/local/lib/python3.10/dist-packages (from simpletransformers==0.63.4) (1.2.2)\n",
            "Requirement already satisfied: tensorboard in /usr/local/lib/python3.10/dist-packages (from simpletransformers==0.63.4) (2.14.1)\n",
            "Requirement already satisfied: pandas in /usr/local/lib/python3.10/dist-packages (from simpletransformers==0.63.4) (1.5.3)\n",
            "Requirement already satisfied: tokenizers in /usr/local/lib/python3.10/dist-packages (from simpletransformers==0.63.4) (0.15.0)\n",
            "Requirement already satisfied: wandb>=0.10.32 in /usr/local/lib/python3.10/dist-packages (from simpletransformers==0.63.4) (0.16.0)\n",
            "Requirement already satisfied: streamlit in /usr/local/lib/python3.10/dist-packages (from simpletransformers==0.63.4) (1.28.2)\n",
            "Requirement already satisfied: sentencepiece in /usr/local/lib/python3.10/dist-packages (from simpletransformers==0.63.4) (0.1.99)\n",
            "Requirement already satisfied: filelock in /usr/local/lib/python3.10/dist-packages (from transformers>=4.6.0->simpletransformers==0.63.4) (3.13.1)\n",
            "Requirement already satisfied: huggingface-hub<1.0,>=0.16.4 in /usr/local/lib/python3.10/dist-packages (from transformers>=4.6.0->simpletransformers==0.63.4) (0.19.4)\n",
            "Requirement already satisfied: packaging>=20.0 in /usr/local/lib/python3.10/dist-packages (from transformers>=4.6.0->simpletransformers==0.63.4) (23.2)\n",
            "Requirement already satisfied: pyyaml>=5.1 in /usr/local/lib/python3.10/dist-packages (from transformers>=4.6.0->simpletransformers==0.63.4) (6.0.1)\n",
            "Requirement already satisfied: safetensors>=0.3.1 in /usr/local/lib/python3.10/dist-packages (from transformers>=4.6.0->simpletransformers==0.63.4) (0.4.0)\n",
            "Requirement already satisfied: Click!=8.0.0,>=7.1 in /usr/local/lib/python3.10/dist-packages (from wandb>=0.10.32->simpletransformers==0.63.4) (8.1.7)\n",
            "Requirement already satisfied: GitPython!=3.1.29,>=1.0.0 in /usr/local/lib/python3.10/dist-packages (from wandb>=0.10.32->simpletransformers==0.63.4) (3.1.40)\n",
            "Requirement already satisfied: psutil>=5.0.0 in /usr/local/lib/python3.10/dist-packages (from wandb>=0.10.32->simpletransformers==0.63.4) (5.9.5)\n",
            "Requirement already satisfied: sentry-sdk>=1.0.0 in /usr/local/lib/python3.10/dist-packages (from wandb>=0.10.32->simpletransformers==0.63.4) (1.37.1)\n",
            "Requirement already satisfied: docker-pycreds>=0.4.0 in /usr/local/lib/python3.10/dist-packages (from wandb>=0.10.32->simpletransformers==0.63.4) (0.4.0)\n",
            "Requirement already satisfied: setproctitle in /usr/local/lib/python3.10/dist-packages (from wandb>=0.10.32->simpletransformers==0.63.4) (1.3.3)\n",
            "Requirement already satisfied: setuptools in /usr/local/lib/python3.10/dist-packages (from wandb>=0.10.32->simpletransformers==0.63.4) (67.7.2)\n",
            "Requirement already satisfied: appdirs>=1.4.3 in /usr/local/lib/python3.10/dist-packages (from wandb>=0.10.32->simpletransformers==0.63.4) (1.4.4)\n",
            "Requirement already satisfied: protobuf!=4.21.0,<5,>=3.19.0 in /usr/local/lib/python3.10/dist-packages (from wandb>=0.10.32->simpletransformers==0.63.4) (3.20.3)\n",
            "Requirement already satisfied: charset-normalizer<4,>=2 in /usr/local/lib/python3.10/dist-packages (from requests->simpletransformers==0.63.4) (3.3.2)\n",
            "Requirement already satisfied: idna<4,>=2.5 in /usr/local/lib/python3.10/dist-packages (from requests->simpletransformers==0.63.4) (3.4)\n",
            "Requirement already satisfied: urllib3<3,>=1.21.1 in /usr/local/lib/python3.10/dist-packages (from requests->simpletransformers==0.63.4) (2.0.7)\n",
            "Requirement already satisfied: certifi>=2017.4.17 in /usr/local/lib/python3.10/dist-packages (from requests->simpletransformers==0.63.4) (2023.7.22)\n",
            "Requirement already satisfied: pyarrow>=8.0.0 in /usr/local/lib/python3.10/dist-packages (from datasets->simpletransformers==0.63.4) (9.0.0)\n",
            "Requirement already satisfied: pyarrow-hotfix in /usr/local/lib/python3.10/dist-packages (from datasets->simpletransformers==0.63.4) (0.6)\n",
            "Requirement already satisfied: dill<0.3.8,>=0.3.0 in /usr/local/lib/python3.10/dist-packages (from datasets->simpletransformers==0.63.4) (0.3.7)\n",
            "Requirement already satisfied: xxhash in /usr/local/lib/python3.10/dist-packages (from datasets->simpletransformers==0.63.4) (3.4.1)\n",
            "Requirement already satisfied: multiprocess in /usr/local/lib/python3.10/dist-packages (from datasets->simpletransformers==0.63.4) (0.70.15)\n",
            "Requirement already satisfied: fsspec[http]<=2023.10.0,>=2023.1.0 in /usr/local/lib/python3.10/dist-packages (from datasets->simpletransformers==0.63.4) (2023.6.0)\n",
            "Requirement already satisfied: aiohttp in /usr/local/lib/python3.10/dist-packages (from datasets->simpletransformers==0.63.4) (3.8.6)\n",
            "Requirement already satisfied: python-dateutil>=2.8.1 in /usr/local/lib/python3.10/dist-packages (from pandas->simpletransformers==0.63.4) (2.8.2)\n",
            "Requirement already satisfied: pytz>=2020.1 in /usr/local/lib/python3.10/dist-packages (from pandas->simpletransformers==0.63.4) (2023.3.post1)\n",
            "Requirement already satisfied: joblib>=1.1.1 in /usr/local/lib/python3.10/dist-packages (from scikit-learn->simpletransformers==0.63.4) (1.3.2)\n",
            "Requirement already satisfied: threadpoolctl>=2.0.0 in /usr/local/lib/python3.10/dist-packages (from scikit-learn->simpletransformers==0.63.4) (3.2.0)\n",
            "Requirement already satisfied: altair<6,>=4.0 in /usr/local/lib/python3.10/dist-packages (from streamlit->simpletransformers==0.63.4) (4.2.2)\n",
            "Requirement already satisfied: blinker<2,>=1.0.0 in /usr/lib/python3/dist-packages (from streamlit->simpletransformers==0.63.4) (1.4)\n",
            "Requirement already satisfied: cachetools<6,>=4.0 in /usr/local/lib/python3.10/dist-packages (from streamlit->simpletransformers==0.63.4) (5.3.2)\n",
            "Requirement already satisfied: importlib-metadata<7,>=1.4 in /usr/local/lib/python3.10/dist-packages (from streamlit->simpletransformers==0.63.4) (6.8.0)\n",
            "Requirement already satisfied: pillow<11,>=7.1.0 in /usr/local/lib/python3.10/dist-packages (from streamlit->simpletransformers==0.63.4) (9.4.0)\n",
            "Requirement already satisfied: rich<14,>=10.14.0 in /usr/local/lib/python3.10/dist-packages (from streamlit->simpletransformers==0.63.4) (13.7.0)\n",
            "Requirement already satisfied: tenacity<9,>=8.1.0 in /usr/local/lib/python3.10/dist-packages (from streamlit->simpletransformers==0.63.4) (8.2.3)\n",
            "Requirement already satisfied: toml<2,>=0.10.1 in /usr/local/lib/python3.10/dist-packages (from streamlit->simpletransformers==0.63.4) (0.10.2)\n",
            "Requirement already satisfied: typing-extensions<5,>=4.3.0 in /usr/local/lib/python3.10/dist-packages (from streamlit->simpletransformers==0.63.4) (4.5.0)\n",
            "Requirement already satisfied: tzlocal<6,>=1.1 in /usr/local/lib/python3.10/dist-packages (from streamlit->simpletransformers==0.63.4) (5.2)\n",
            "Requirement already satisfied: validators<1,>=0.2 in /usr/local/lib/python3.10/dist-packages (from streamlit->simpletransformers==0.63.4) (0.22.0)\n",
            "Requirement already satisfied: pydeck<1,>=0.8.0b4 in /usr/local/lib/python3.10/dist-packages (from streamlit->simpletransformers==0.63.4) (0.8.1b0)\n",
            "Requirement already satisfied: tornado<7,>=6.0.3 in /usr/local/lib/python3.10/dist-packages (from streamlit->simpletransformers==0.63.4) (6.3.2)\n",
            "Requirement already satisfied: watchdog>=2.1.5 in /usr/local/lib/python3.10/dist-packages (from streamlit->simpletransformers==0.63.4) (3.0.0)\n",
            "Requirement already satisfied: absl-py>=0.4 in /usr/local/lib/python3.10/dist-packages (from tensorboard->simpletransformers==0.63.4) (1.4.0)\n",
            "Requirement already satisfied: grpcio>=1.48.2 in /usr/local/lib/python3.10/dist-packages (from tensorboard->simpletransformers==0.63.4) (1.59.2)\n",
            "Requirement already satisfied: google-auth<3,>=1.6.3 in /usr/local/lib/python3.10/dist-packages (from tensorboard->simpletransformers==0.63.4) (2.17.3)\n",
            "Requirement already satisfied: google-auth-oauthlib<1.1,>=0.5 in /usr/local/lib/python3.10/dist-packages (from tensorboard->simpletransformers==0.63.4) (1.0.0)\n",
            "Requirement already satisfied: markdown>=2.6.8 in /usr/local/lib/python3.10/dist-packages (from tensorboard->simpletransformers==0.63.4) (3.5.1)\n",
            "Requirement already satisfied: six>1.9 in /usr/local/lib/python3.10/dist-packages (from tensorboard->simpletransformers==0.63.4) (1.16.0)\n",
            "Requirement already satisfied: tensorboard-data-server<0.8.0,>=0.7.0 in /usr/local/lib/python3.10/dist-packages (from tensorboard->simpletransformers==0.63.4) (0.7.2)\n",
            "Requirement already satisfied: werkzeug>=1.0.1 in /usr/local/lib/python3.10/dist-packages (from tensorboard->simpletransformers==0.63.4) (3.0.1)\n",
            "Requirement already satisfied: entrypoints in /usr/local/lib/python3.10/dist-packages (from altair<6,>=4.0->streamlit->simpletransformers==0.63.4) (0.4)\n",
            "Requirement already satisfied: jinja2 in /usr/local/lib/python3.10/dist-packages (from altair<6,>=4.0->streamlit->simpletransformers==0.63.4) (3.1.2)\n",
            "Requirement already satisfied: jsonschema>=3.0 in /usr/local/lib/python3.10/dist-packages (from altair<6,>=4.0->streamlit->simpletransformers==0.63.4) (4.19.2)\n",
            "Requirement already satisfied: toolz in /usr/local/lib/python3.10/dist-packages (from altair<6,>=4.0->streamlit->simpletransformers==0.63.4) (0.12.0)\n",
            "Requirement already satisfied: attrs>=17.3.0 in /usr/local/lib/python3.10/dist-packages (from aiohttp->datasets->simpletransformers==0.63.4) (23.1.0)\n",
            "Requirement already satisfied: multidict<7.0,>=4.5 in /usr/local/lib/python3.10/dist-packages (from aiohttp->datasets->simpletransformers==0.63.4) (6.0.4)\n",
            "Requirement already satisfied: async-timeout<5.0,>=4.0.0a3 in /usr/local/lib/python3.10/dist-packages (from aiohttp->datasets->simpletransformers==0.63.4) (4.0.3)\n",
            "Requirement already satisfied: yarl<2.0,>=1.0 in /usr/local/lib/python3.10/dist-packages (from aiohttp->datasets->simpletransformers==0.63.4) (1.9.2)\n",
            "Requirement already satisfied: frozenlist>=1.1.1 in /usr/local/lib/python3.10/dist-packages (from aiohttp->datasets->simpletransformers==0.63.4) (1.4.0)\n",
            "Requirement already satisfied: aiosignal>=1.1.2 in /usr/local/lib/python3.10/dist-packages (from aiohttp->datasets->simpletransformers==0.63.4) (1.3.1)\n",
            "Requirement already satisfied: gitdb<5,>=4.0.1 in /usr/local/lib/python3.10/dist-packages (from GitPython!=3.1.29,>=1.0.0->wandb>=0.10.32->simpletransformers==0.63.4) (4.0.11)\n",
            "Requirement already satisfied: pyasn1-modules>=0.2.1 in /usr/local/lib/python3.10/dist-packages (from google-auth<3,>=1.6.3->tensorboard->simpletransformers==0.63.4) (0.3.0)\n",
            "Requirement already satisfied: rsa<5,>=3.1.4 in /usr/local/lib/python3.10/dist-packages (from google-auth<3,>=1.6.3->tensorboard->simpletransformers==0.63.4) (4.9)\n",
            "Requirement already satisfied: requests-oauthlib>=0.7.0 in /usr/local/lib/python3.10/dist-packages (from google-auth-oauthlib<1.1,>=0.5->tensorboard->simpletransformers==0.63.4) (1.3.1)\n",
            "Requirement already satisfied: zipp>=0.5 in /usr/local/lib/python3.10/dist-packages (from importlib-metadata<7,>=1.4->streamlit->simpletransformers==0.63.4) (3.17.0)\n",
            "Requirement already satisfied: markdown-it-py>=2.2.0 in /usr/local/lib/python3.10/dist-packages (from rich<14,>=10.14.0->streamlit->simpletransformers==0.63.4) (3.0.0)\n",
            "Requirement already satisfied: pygments<3.0.0,>=2.13.0 in /usr/local/lib/python3.10/dist-packages (from rich<14,>=10.14.0->streamlit->simpletransformers==0.63.4) (2.16.1)\n",
            "Requirement already satisfied: MarkupSafe>=2.1.1 in /usr/local/lib/python3.10/dist-packages (from werkzeug>=1.0.1->tensorboard->simpletransformers==0.63.4) (2.1.3)\n",
            "Requirement already satisfied: smmap<6,>=3.0.1 in /usr/local/lib/python3.10/dist-packages (from gitdb<5,>=4.0.1->GitPython!=3.1.29,>=1.0.0->wandb>=0.10.32->simpletransformers==0.63.4) (5.0.1)\n",
            "Requirement already satisfied: jsonschema-specifications>=2023.03.6 in /usr/local/lib/python3.10/dist-packages (from jsonschema>=3.0->altair<6,>=4.0->streamlit->simpletransformers==0.63.4) (2023.11.1)\n",
            "Requirement already satisfied: referencing>=0.28.4 in /usr/local/lib/python3.10/dist-packages (from jsonschema>=3.0->altair<6,>=4.0->streamlit->simpletransformers==0.63.4) (0.31.0)\n",
            "Requirement already satisfied: rpds-py>=0.7.1 in /usr/local/lib/python3.10/dist-packages (from jsonschema>=3.0->altair<6,>=4.0->streamlit->simpletransformers==0.63.4) (0.13.0)\n",
            "Requirement already satisfied: mdurl~=0.1 in /usr/local/lib/python3.10/dist-packages (from markdown-it-py>=2.2.0->rich<14,>=10.14.0->streamlit->simpletransformers==0.63.4) (0.1.2)\n",
            "Requirement already satisfied: pyasn1<0.6.0,>=0.4.6 in /usr/local/lib/python3.10/dist-packages (from pyasn1-modules>=0.2.1->google-auth<3,>=1.6.3->tensorboard->simpletransformers==0.63.4) (0.5.0)\n",
            "Requirement already satisfied: oauthlib>=3.0.0 in /usr/local/lib/python3.10/dist-packages (from requests-oauthlib>=0.7.0->google-auth-oauthlib<1.1,>=0.5->tensorboard->simpletransformers==0.63.4) (3.2.2)\n"
          ]
        }
      ]
    },
    {
      "cell_type": "code",
      "source": [
        "!pip install sentencepiece"
      ],
      "metadata": {
        "colab": {
          "base_uri": "https://localhost:8080/"
        },
        "id": "85k9sJJvSkTI",
        "outputId": "f3f0883f-da11-4ba0-a72c-9c6202fb3c6d"
      },
      "execution_count": null,
      "outputs": [
        {
          "output_type": "stream",
          "name": "stdout",
          "text": [
            "Requirement already satisfied: sentencepiece in /usr/local/lib/python3.10/dist-packages (0.1.99)\n"
          ]
        }
      ]
    },
    {
      "cell_type": "code",
      "source": [
        "from transformers import AutoTokenizer, AutoModelForSeq2SeqLM\n",
        "\n",
        "model_name = \"csebuetnlp/mT5_multilingual_XLSum\"\n",
        "tokenizer = AutoTokenizer.from_pretrained(model_name)\n",
        "model = AutoModelForSeq2SeqLM.from_pretrained(model_name)\n",
        "\n",
        "# Your input text\n",
        "text = '''วันที่ 13 ตุลาคม 2566 ช่วงเวลาประมาณตี2  หนุงหนิง  หรือ น.ส.เพ็ญพิวรรณ มิตรธรรมพิทักษ์   ผู้เคราะห์ร้ายจากเหตุการ์ณ #กราดยิงพารากอน ได้เสียชีวิตลงอย่างสงบแล้วค่ะ\n",
        "นายจ้างของชาวเมียนมา เหยื่อเหตุยิงห้างดัง เอาผิดผู้ก่อเหตุ ลั่น ไม่สนจะเป็นเด็กหรือไม่จะเอาผิดให้ถึงที่สุด  แต่ส่วนตัวก็จะจ่ายให้พ่อแม่ของน้องเดือนละ 10,000 บาท ตามพี่น้องเคยทำมา ให้เสมือนน้องเขามีชีวิตอยู่  #กราดยิงพารากอน #กราดยิง #พารากอน #อย่าโทษเกมส์ #สยามพารากอน\n",
        "ความฝันของพี่หนิงหลังจากรักษามะเร็งจบ พี่หนิงวางแผนไว้หากตัวเองเป็นอะไรไปจะบริจาคอวัยวะเพื่อทำบุญเป็นครั้งสุดท้ายในชีวิต แต่โชคก็ไม่ดีมีเด็กอายุ14 #กราดยิงพารากอน ยิงเข้าอวัยวะที่สำคัญ ทำให้บริจาคไม่ได้ อีกทั้งอาจาร์ยใหญ่ก็ไม่ได้เพราะอยู่ในขั้นตอนของคดีความทางโรงพยาบาลจึงไม่รับ\n",
        "ข่าวเงียบมากอพราะข่าวสงครามมากลบข่าวนี้ แต่อ่านข่าวล่าสุดพ่อค้าที่ขายปืนประกอบให้เด็กชิงฆ่าตัวตายหนีคดีไปแล้วอ่ะ #กราดยิงพารากอน อย่าให้ข่าวเงียบ\n",
        "ขอแสดงความเสียใจด้วยนะคะ​ เหยื่อที่โดนกราดยิงที่พารากอน​ เสียชีวิตอีกรายแล้วค่ะ​  #กราดยิงพารากอน\n",
        "ฟังสัมพี่ รปภ. ที่ขับรถไปส่งมันที่สถานีตำรวจ เค้าบอกว่า มันเดินเข้ามาปกติมาก แล้วก็ยิง รปภ.ก่อน แต่เค้าหลบทัน แล้วมันก็เดินไปเรื่อยๆ เจอใครที่อยากยิงมันจะเดินตามซักพักแล้วยิง เนี่ย มันไม่ใช่อาการคนหลอนเลยอีสัส รปภ. บอกมันมานิ่งๆ ไม่มีอะไรผิดปกติเลย ไอ้เด็กเหี้ย  #กราดยิงพารากอน\n",
        "ไอ้เด็กเหี้ยนั่นไม่ได้พรากแค่ชีวิตของผู้หญิงคนนึง แต่พรากโอกาสต่อลมหายใจให้กับใครอีกหลายคนที่จะได้รับอวัยวะต่อในอนาคต คำด่า คำประณามใดๆ ก็ไม่สาสมกับสิ่งที่มันทำท #กราดยิงพารากอน\n",
        "สะเหล่อ   เหตุการณ์นี้มีคนเสียชีวิต มีคนบาดเจ็บ คึกครื้นไร   #พารากอน  #กราดยิงพารากอน\n",
        "เห็นชอบครับ  #พารากอน #สยามพารากอน #กราดยิงพารากอน #กราดยิง #siamparagon\n",
        "มีข่าวอ้างว่าป่วยจิตและไม่กินยา แต่ -เตรียมอาวุธปืนและซุกซ่อนเข้าห้าง #พารากอน  -แต่งกายมิดชิดเตรียมพร้อม -มีคลิปในมือถือซ้อมเปลี่ยนแมกกาซีน -ตอนมอบตัวโคตรมีสติ รีบทิ้งปืน ชูมือแสดงว่า unharmed ป้องกันการถูกจนท.ยิงตาย นี่คือการไตร่ตรอง วางแผนและเตรียมตัวอย่างดี   #กราดยิงพารากอน'''\n",
        "\n",
        "# Tokenize and generate text\n",
        "inputs = tokenizer(text, max_length=1500, return_tensors=\"pt\",padding='max_length', truncation=True)\n",
        "generate_ids = model.generate(inputs[\"input_ids\"], min_length=64, max_length=1500,length_penalty=10.0, num_beams=10, early_stopping=True)\n",
        "decoded_text = tokenizer.batch_decode(generate_ids, skip_special_tokens=True, clean_up_tokenization_spaces=False)[0]\n",
        "\n",
        "# Print the generated text\n",
        "print(decoded_text)"
      ],
      "metadata": {
        "id": "OiB5iXJfmFoz"
      },
      "execution_count": null,
      "outputs": []
    },
    {
      "cell_type": "markdown",
      "source": [
        "# **DeltaLM Model**"
      ],
      "metadata": {
        "id": "fupJiAR2Pe85"
      }
    },
    {
      "cell_type": "code",
      "source": [
        "# Install wget if not already installed\n",
        "!pip install wget\n",
        "\n",
        "# Import required libraries\n",
        "import wget\n",
        "import os\n",
        "\n",
        "# Define the URLs for the custom model and configuration files\n",
        "modeling_url = \"https://huggingface.co/hhhhzy/deltalm-base-xlsum/raw/main/modeling_deltalm.py\"\n",
        "configuration_url = \"https://huggingface.co/hhhhzy/deltalm-base-xlsum/raw/main/configuration_deltalm.py\"\n",
        "\n",
        "# Specify the directory where you want to save the files\n",
        "save_dir = \"/content/\"\n",
        "\n",
        "# Download the custom files\n",
        "wget.download(modeling_url, os.path.join(save_dir, \"modeling_deltalm.py\"))\n",
        "wget.download(configuration_url, os.path.join(save_dir, \"configuration_deltalm.py\"))\n"
      ],
      "metadata": {
        "colab": {
          "base_uri": "https://localhost:8080/",
          "height": 234
        },
        "id": "-m9-7T0Wa_YC",
        "outputId": "2a5ffc6a-2672-45da-ef08-2252c3a488f7"
      },
      "execution_count": null,
      "outputs": [
        {
          "output_type": "stream",
          "name": "stdout",
          "text": [
            "Collecting wget\n",
            "  Downloading wget-3.2.zip (10 kB)\n",
            "  Preparing metadata (setup.py) ... \u001b[?25l\u001b[?25hdone\n",
            "Building wheels for collected packages: wget\n",
            "  Building wheel for wget (setup.py) ... \u001b[?25l\u001b[?25hdone\n",
            "  Created wheel for wget: filename=wget-3.2-py3-none-any.whl size=9657 sha256=c9dbfbeb81fe123a2c26209d29841db40097fcba1e2e6a7dd991e087d49d42b9\n",
            "  Stored in directory: /root/.cache/pip/wheels/8b/f1/7f/5c94f0a7a505ca1c81cd1d9208ae2064675d97582078e6c769\n",
            "Successfully built wget\n",
            "Installing collected packages: wget\n",
            "Successfully installed wget-3.2\n"
          ]
        },
        {
          "output_type": "execute_result",
          "data": {
            "text/plain": [
              "'/content/configuration_deltalm.py'"
            ],
            "application/vnd.google.colaboratory.intrinsic+json": {
              "type": "string"
            }
          },
          "metadata": {},
          "execution_count": 2
        }
      ]
    },
    {
      "cell_type": "code",
      "source": [
        "from modeling_deltalm import DeltalmForConditionalGeneration\n",
        "from configuration_deltalm import DeltalmConfig\n",
        "from transformers import AutoTokenizer\n",
        "\n",
        "# Initialize the model and tokenizer\n",
        "model = DeltalmForConditionalGeneration.from_pretrained(\"hhhhzy/deltalm-base-xlsum\")\n",
        "tokenizer = AutoTokenizer.from_pretrained(\"hhhhzy/deltalm-base-xlsum\")\n",
        "\n",
        "# Your input text\n",
        "text = '''วันที่ 13 ตุลาคม 2566 ช่วงเวลาประมาณตี2  หนุงหนิง  หรือ น.ส.เพ็ญพิวรรณ มิตรธรรมพิทักษ์   ผู้เคราะห์ร้ายจากเหตุการ์ณ #กราดยิงพารากอน ได้เสียชีวิตลงอย่างสงบแล้วค่ะ\n",
        "นายจ้างของชาวเมียนมา เหยื่อเหตุยิงห้างดัง เอาผิดผู้ก่อเหตุ ลั่น ไม่สนจะเป็นเด็กหรือไม่จะเอาผิดให้ถึงที่สุด  แต่ส่วนตัวก็จะจ่ายให้พ่อแม่ของน้องเดือนละ 10,000 บาท ตามพี่น้องเคยทำมา ให้เสมือนน้องเขามีชีวิตอยู่  #กราดยิงพารากอน #กราดยิง #พารากอน #อย่าโทษเกมส์ #สยามพารากอน\n",
        "ความฝันของพี่หนิงหลังจากรักษามะเร็งจบ พี่หนิงวางแผนไว้หากตัวเองเป็นอะไรไปจะบริจาคอวัยวะเพื่อทำบุญเป็นครั้งสุดท้ายในชีวิต แต่โชคก็ไม่ดีมีเด็กอายุ14 #กราดยิงพารากอน ยิงเข้าอวัยวะที่สำคัญ ทำให้บริจาคไม่ได้ อีกทั้งอาจาร์ยใหญ่ก็ไม่ได้เพราะอยู่ในขั้นตอนของคดีความทางโรงพยาบาลจึงไม่รับ\n",
        "ข่าวเงียบมากอพราะข่าวสงครามมากลบข่าวนี้ แต่อ่านข่าวล่าสุดพ่อค้าที่ขายปืนประกอบให้เด็กชิงฆ่าตัวตายหนีคดีไปแล้วอ่ะ #กราดยิงพารากอน อย่าให้ข่าวเงียบ\n",
        "ขอแสดงความเสียใจด้วยนะคะ​ เหยื่อที่โดนกราดยิงที่พารากอน​ เสียชีวิตอีกรายแล้วค่ะ​  #กราดยิงพารากอน\n",
        "ฟังสัมพี่ รปภ. ที่ขับรถไปส่งมันที่สถานีตำรวจ เค้าบอกว่า มันเดินเข้ามาปกติมาก แล้วก็ยิง รปภ.ก่อน แต่เค้าหลบทัน แล้วมันก็เดินไปเรื่อยๆ เจอใครที่อยากยิงมันจะเดินตามซักพักแล้วยิง เนี่ย มันไม่ใช่อาการคนหลอนเลยอีสัส รปภ. บอกมันมานิ่งๆ ไม่มีอะไรผิดปกติเลย ไอ้เด็กเหี้ย  #กราดยิงพารากอน\n",
        "ไอ้เด็กเหี้ยนั่นไม่ได้พรากแค่ชีวิตของผู้หญิงคนนึง แต่พรากโอกาสต่อลมหายใจให้กับใครอีกหลายคนที่จะได้รับอวัยวะต่อในอนาคต คำด่า คำประณามใดๆ ก็ไม่สาสมกับสิ่งที่มันทำท #กราดยิงพารากอน\n",
        "สะเหล่อ   เหตุการณ์นี้มีคนเสียชีวิต มีคนบาดเจ็บ คึกครื้นไร   #พารากอน  #กราดยิงพารากอน\n",
        "เห็นชอบครับ  #พารากอน #สยามพารากอน #กราดยิงพารากอน #กราดยิง #siamparagon\n",
        "มีข่าวอ้างว่าป่วยจิตและไม่กินยา แต่ -เตรียมอาวุธปืนและซุกซ่อนเข้าห้าง #พารากอน  -แต่งกายมิดชิดเตรียมพร้อม -มีคลิปในมือถือซ้อมเปลี่ยนแมกกาซีน -ตอนมอบตัวโคตรมีสติ รีบทิ้งปืน ชูมือแสดงว่า unharmed ป้องกันการถูกจนท.ยิงตาย นี่คือการไตร่ตรอง วางแผนและเตรียมตัวอย่างดี   #กราดยิงพารากอน'''  # Your long input text\n",
        "\n",
        "# Tokenize and generate text\n",
        "inputs = tokenizer(text, max_length=512, return_tensors=\"pt\",truncation=True)  # Adjust max_length as needed\n",
        "generate_ids = model.generate(inputs[\"input_ids\"], min_length=55, max_length=512,length_penalty=10.0, num_beams=10, early_stopping=True)\n",
        "decoded_text = tokenizer.batch_decode(generate_ids, skip_special_tokens=True, clean_up_tokenization_spaces=False)[0]\n",
        "\n",
        "# Print the generated text\n",
        "print(decoded_text)\n"
      ],
      "metadata": {
        "colab": {
          "base_uri": "https://localhost:8080/"
        },
        "id": "ZWWwwVs9Ogvg",
        "outputId": "fed9acc3-ab1d-4bc8-d503-07415db6af70"
      },
      "execution_count": null,
      "outputs": [
        {
          "output_type": "stream",
          "name": "stdout",
          "text": [
            "หนุงหนิง หรือ น.ส.เพ็ญพิวรรณ มิตรธรรมพิทักษ์ ผู้เคราะห์ร้ายจากเหตุกราดยิงที่ห้างสรรพสินค้าพารากอน เสียชีวิตลงอย่างสงบแล้ว ท่ามกลางความเศร้าสลดของชาวเมียนมาและผู้เคราะห์ร้ายในเหตุการณ์นี้\n"
          ]
        }
      ]
    }
  ]
}